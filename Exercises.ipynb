{
 "cells": [
  {
   "cell_type": "markdown",
   "metadata": {},
   "source": [
    "#### Exercise 1 - Class Inheritance"
   ]
  },
  {
   "cell_type": "markdown",
   "metadata": {},
   "source": [
    "Create an Employee class that sets an employee's first name, last name, job title, salary, and email. The Employee class should have a class attribute for the raise amount set to 5% (1.05). Create a method that will apply the raise to an employee's salary."
   ]
  },
  {
   "cell_type": "code",
   "execution_count": 97,
   "metadata": {},
   "outputs": [
    {
     "name": "stdout",
     "output_type": "stream",
     "text": [
      "first name: Joey| last name: Madenjian | job title: Coder | salary: 100000 | e-mail: Joey@Gmail.Com\n",
      "Salary is now $105000 after raise\n",
      "first name: Joey| last name: Madenjian | job title: Coder | salary: 105000 | e-mail: Joey@Gmail.Com\n"
     ]
    }
   ],
   "source": [
    "class employee:\n",
    "    raise_amount = 1.05\n",
    "    \n",
    "    def __init__(self, first_name, last_name, job_title, salary, email):\n",
    "        self.first_name = first_name\n",
    "        self.last_name = last_name\n",
    "        self.job_title = job_title\n",
    "        self.salary = int(salary)\n",
    "        self.email = email\n",
    "    \n",
    "        \n",
    "    def __str__(self):\n",
    "        return f\"first name: {self.first_name.title()}| last name: {self.last_name.title()} | job title: {self.job_title.title()} | salary: {self.salary} | e-mail: {self.email.title()}\"\n",
    "    \n",
    "    def salary_up(self):\n",
    "        self.salary = int(self.salary * self.raise_amount)\n",
    "        return f\"Salary is now ${self.salary} after raise\"\n",
    "employee_1 = employee('joey', 'madenjian', 'coder', 100000, 'joey@gmail.com')\n",
    "\n",
    "print(employee_1)\n",
    "print(employee_1.salary_up())\n",
    "print(employee_1)"
   ]
  },
  {
   "cell_type": "markdown",
   "metadata": {},
   "source": [
    "Create two more classes that inherit from the Employee class. One for Sales and one for Development. Both of these classes will have the same attributes as the Employee.<br>\n",
    "- For the Sales employees, add a phone number attribute on instantiation using the super method. \n",
    "- Create a method on the Sales class that will Send a Follow Up Email. It should take in a customer name and \"send\" aka print a formatted email \"Dear *customer*, Thank you for your interest in our product. Please let me know if you have any questions. My email is *email* or my phone number is *phone number*. Thanks, *full name*\"\n",
    "- Create a method on the Development class called code that will print out \"*full name* is writing code\"."
   ]
  },
  {
   "cell_type": "code",
   "execution_count": 98,
   "metadata": {},
   "outputs": [],
   "source": [
    "class sales(employee):\n",
    "    def __init__(self, first_name, last_name, job_title, salary, email, phone_number):\n",
    "        super().__init__(first_name, last_name, job_title, salary, email)\n",
    "        self.phone_number = phone_number\n",
    "    def follow_up(self, customer_name):\n",
    "        return f\"Dear {customer_name.title()} Thank you for your interest in our product. Please let me know if you have any questions! My email is {self.email} or my phonenumber is {self.phone_number}. Thanks, {self.first_name.title()} {self.last_name.title()}\"\n",
    "        \n",
    "class development(employee):\n",
    "    def __init__(self, first_name, last_name, job_title, salary, email):\n",
    "        super().__init__(first_name, last_name, job_title, salary, email)\n",
    "        \n",
    "    def code(self):\n",
    "        return f\"{self.first_name.title()} {self.last_name.title()} is writing code.\"\n",
    "    \n"
   ]
  },
  {
   "cell_type": "code",
   "execution_count": 99,
   "metadata": {},
   "outputs": [
    {
     "name": "stdout",
     "output_type": "stream",
     "text": [
      "7778882222\n"
     ]
    }
   ],
   "source": [
    "sales_emp = sales('joey', 'madenjian', 'coder', 100000, 'joey@gmail.com', 7778882222)\n",
    "print(sales_emp.phone_number)"
   ]
  },
  {
   "cell_type": "markdown",
   "metadata": {},
   "source": [
    "- Create an instance of a Sales Employee with a salary of $50,000.\n",
    "- Send follow up emails to \"Mike O'Neil\" and \"Hannah Stern\"\n",
    "- Give the employee a raise and print the salary"
   ]
  },
  {
   "cell_type": "code",
   "execution_count": 100,
   "metadata": {},
   "outputs": [
    {
     "name": "stdout",
     "output_type": "stream",
     "text": [
      "Dear Mike 0'Neil,\n",
      " Thank you for your interest in our product. Please let me know if you have any questions! My email is john.doe@gmail.com or my phonenumber is 2223334444. Thanks, John Doe\n",
      "Dear Hannah Stern,\n",
      " Thank you for your interest in our product. Please let me know if you have any questions! My email is john.doe@gmail.com or my phonenumber is 2223334444. Thanks, John Doe\n",
      "\n",
      "Salary is now $52500 after raise\n"
     ]
    }
   ],
   "source": [
    "sales_emp2 = sales('john', 'doe', 'sales manager', 50000, 'john.doe@gmail.com', 2223334444)\n",
    "print(sales_emp2.follow_up(\"Mike 0'Neil,\\n\"))\n",
    "print(sales_emp2.follow_up(\"Hannah Stern,\\n\"))\n",
    "print(f\"\\n{sales_emp2.salary_up()}\")"
   ]
  },
  {
   "cell_type": "markdown",
   "metadata": {},
   "source": [
    "- Create an instance of a Development Employee with a salary of $100,000\n",
    "- Write some code with this employee\n",
    "- Give the employee a raise and print the salary"
   ]
  },
  {
   "cell_type": "code",
   "execution_count": 101,
   "metadata": {},
   "outputs": [
    {
     "name": "stdout",
     "output_type": "stream",
     "text": [
      "Test Tester is writing code.\n",
      "Salary is now $105000 after raise\n"
     ]
    }
   ],
   "source": [
    "# first_name, last_name, job_title, salary, email\n",
    "dev_emp = development('test', 'tester', 'QA', 100000, 'uselessQA@gmail.com')\n",
    "print(dev_emp.code())\n",
    "print(dev_emp.salary_up())"
   ]
  },
  {
   "cell_type": "markdown",
   "metadata": {},
   "source": [
    "#### Exercise 2 - Importing Modules"
   ]
  },
  {
   "cell_type": "markdown",
   "metadata": {},
   "source": [
    "In VS Code, create a module titled `geometry` and add two functions in there. One that will calculate the area of a circle given a radius. The second will find the hypotenuse of a right angle given the two sides. Import the module or the functions from the module and use it to find the answers to the below questions"
   ]
  },
  {
   "cell_type": "markdown",
   "metadata": {},
   "source": [
    "What is the area of a circle with a radius of 7cm?"
   ]
  },
  {
   "cell_type": "code",
   "execution_count": 102,
   "metadata": {},
   "outputs": [],
   "source": [
    "#PLEASE CHECK PYTHON FILES FOR ANSWER"
   ]
  },
  {
   "cell_type": "code",
   "execution_count": null,
   "metadata": {},
   "outputs": [],
   "source": [
    "def area(radius):\n",
    "    area_ans = radius*radius*3.1459\n",
    "    return f\"{round(area_ans, 2)} cm\"\n",
    "\n",
    "def hype(side1, side2):\n",
    "    hype_ans = (side1**2 + side2**2)**(1/2)\n",
    "    return f\"{round(hype_ans, 2)} in\""
   ]
  },
  {
   "cell_type": "code",
   "execution_count": null,
   "metadata": {},
   "outputs": [],
   "source": [
    "from geometry import area\n",
    "\n",
    "print(area(7))"
   ]
  },
  {
   "cell_type": "markdown",
   "metadata": {},
   "source": [
    "What is the hypotenuse of a right angle with sides of 3in and 4in?"
   ]
  },
  {
   "cell_type": "code",
   "execution_count": null,
   "metadata": {},
   "outputs": [],
   "source": [
    "from geometry import area\n",
    "\n",
    "print(hype(2, 4))"
   ]
  }
 ],
 "metadata": {
  "kernelspec": {
   "display_name": "Python 3 (ipykernel)",
   "language": "python",
   "name": "python3"
  },
  "language_info": {
   "codemirror_mode": {
    "name": "ipython",
    "version": 3
   },
   "file_extension": ".py",
   "mimetype": "text/x-python",
   "name": "python",
   "nbconvert_exporter": "python",
   "pygments_lexer": "ipython3",
   "version": "3.9.7"
  }
 },
 "nbformat": 4,
 "nbformat_minor": 4
}
